{
  "nbformat": 4,
  "nbformat_minor": 0,
  "metadata": {
    "colab": {
      "name": "data_loader.py",
      "provenance": [],
      "collapsed_sections": [],
      "authorship_tag": "ABX9TyPX/iITo1+mmwX5MEVJMSvG",
      "include_colab_link": true
    },
    "kernelspec": {
      "name": "python3",
      "display_name": "Python 3"
    }
  },
  "cells": [
    {
      "cell_type": "markdown",
      "metadata": {
        "id": "view-in-github",
        "colab_type": "text"
      },
      "source": [
        "<a href=\"https://colab.research.google.com/github/udipbohara/120-DS-Interview-Questions/blob/master/data_loader_py.ipynb\" target=\"_parent\"><img src=\"https://colab.research.google.com/assets/colab-badge.svg\" alt=\"Open In Colab\"/></a>"
      ]
    },
    {
      "cell_type": "code",
      "metadata": {
        "id": "WQdTNJgC-ath"
      },
      "source": [
        "\"\"\"\n",
        "!apt-get install openjdk-8-jdk-headless -qq > /dev/null\n",
        "!wget -q https://www-us.apache.org/dist/spark/spark-3.0.1/spark-3.0.1-bin-hadoop3.2.tgz\n",
        "!tar xf spark-3.0.1-bin-hadoop3.2.tgz\n",
        "!pip install -q findspark\n",
        "\"\"\""
      ],
      "execution_count": null,
      "outputs": []
    },
    {
      "cell_type": "code",
      "metadata": {
        "id": "b0JzvZf3j9NL"
      },
      "source": [
        "#download the jar file \n",
        "# wget http://dl.bintray.com/spark-packages/maven/graphframes/graphframes/0.3.0-spark2.0-s_2.11/graphframes-0.3.0-spark2.0-s_2.11.jar"
      ],
      "execution_count": null,
      "outputs": []
    },
    {
      "cell_type": "code",
      "metadata": {
        "id": "nqFIh2z9bxn0",
        "outputId": "add9a864-6acc-497b-fe50-0991fd8479da",
        "colab": {
          "base_uri": "https://localhost:8080/",
          "height": 32
        }
      },
      "source": [
        "from google.colab import drive\n",
        "drive.mount('/content/drive')"
      ],
      "execution_count": 1,
      "outputs": [
        {
          "output_type": "stream",
          "text": [
            "Drive already mounted at /content/drive; to attempt to forcibly remount, call drive.mount(\"/content/drive\", force_remount=True).\n"
          ],
          "name": "stdout"
        }
      ]
    },
    {
      "cell_type": "code",
      "metadata": {
        "id": "eVxlT8z3Z5-e"
      },
      "source": [
        "#!curl -L -o \"/usr/local/lib/python3.6/dist-packages/pyspark/jars/graphframes-0.8.0-spark2.4-s_2.11.jar\" http://dl.bintray.com/spark-packages/maven/graphframes/graphframes/0.8.0-spark2.4-s_2.11/graphframes-0.8.0-spark2.4-s_2.11.jar"
      ],
      "execution_count": 2,
      "outputs": []
    },
    {
      "cell_type": "code",
      "metadata": {
        "id": "Lw-Qnj-qY0G_"
      },
      "source": [
        "#!rm -rf spark-3.0.1-bin-hadoop3.2/"
      ],
      "execution_count": 3,
      "outputs": []
    },
    {
      "cell_type": "code",
      "metadata": {
        "id": "shYpiVS2--30",
        "outputId": "edd3caad-9b1a-4063-a937-1f040a8eea9f",
        "colab": {
          "base_uri": "https://localhost:8080/",
          "height": 32
        }
      },
      "source": [
        "!ls"
      ],
      "execution_count": 4,
      "outputs": [
        {
          "output_type": "stream",
          "text": [
            "drive  sample_data  spark-3.0.1-bin-hadoop3.2  spark-3.0.1-bin-hadoop3.2.tgz\n"
          ],
          "name": "stdout"
        }
      ]
    },
    {
      "cell_type": "code",
      "metadata": {
        "id": "C1Xeov1mAhnQ"
      },
      "source": [
        "import os\n",
        "os.environ[\"JAVA_HOME\"] = \"/usr/lib/jvm/java-8-openjdk-amd64\"\n",
        "os.environ[\"SPARK_HOME\"] = \"/content/spark-3.0.1-bin-hadoop3.2\"\n",
        "os.environ[\"PYSPARK_SUBMIT_ARGS\"] = \"--packages graphframes:graphframes:0.8.1-spark3.0-s_2.12 pyspark-shell\"\n",
        "\n",
        "#/content/spark-3.0.1-bin-hadoop3.2/jars/graphframes-0.8.1-spark3.0-s_2.12.jar"
      ],
      "execution_count": 5,
      "outputs": []
    },
    {
      "cell_type": "code",
      "metadata": {
        "id": "aPxlc7TACc7H"
      },
      "source": [
        "import findspark\n",
        "findspark.init()"
      ],
      "execution_count": 6,
      "outputs": []
    },
    {
      "cell_type": "code",
      "metadata": {
        "id": "OzFbM87ZdiQd"
      },
      "source": [
        "import pyspark\n",
        "from graphframes import *"
      ],
      "execution_count": 7,
      "outputs": []
    },
    {
      "cell_type": "code",
      "metadata": {
        "id": "xOALel2jbGyI"
      },
      "source": [
        "from pyspark.sql import SparkSession\n",
        "spark = SparkSession.builder.getOrCreate()\n",
        "#spark = SparkSession.builder.appName('fun').getOrCreate()\n",
        "vertices = spark.createDataFrame([('1', 'Carter', 'Derrick', 50), \n",
        "                                  ('2', 'May', 'Derzrick', 26),\n",
        "                                 ('3', 'Mills', 'Jeff', 80),\n",
        "                                  ('4', 'Hood', 'Robert', 65),\n",
        "                                  ('5', 'Banks', 'Mike', 93),\n",
        "                                 ('98', 'Berg', 'Tim', 28),\n",
        "                                 ('99', 'Page', 'Allan', 16)],\n",
        "                                 ['id', 'name', 'firstname', 'age'])\n",
        "edges = spark.createDataFrame([('1', '2', 'friend'), \n",
        "                               ('2', '1', 'friend'),\n",
        "                              ('3', '1', 'friend'),\n",
        "                              ('1', '3', 'friend'),\n",
        "                               ('2', '3', 'follows'),\n",
        "                               ('3', '4', 'friend'),\n",
        "                               ('4', '3', 'friend'),\n",
        "                               ('5', '3', 'friend'),\n",
        "                               ('3', '5', 'friend'),\n",
        "                               ('4', '5', 'follows'),\n",
        "                              ('98', '99', 'friend'),\n",
        "                              ('99', '98', 'friend')],\n",
        "                              ['src', 'dst', 'type'])\n",
        "\n",
        "g = GraphFrame(vertices,edges)"
      ],
      "execution_count": 13,
      "outputs": []
    },
    {
      "cell_type": "code",
      "metadata": {
        "id": "sQcEDpj9lbn9"
      },
      "source": [
        "results = g.pageRank(resetProbability=0.15, maxIter=20)\n",
        "results.vertices.sort(\"pagerank\", ascending=False).show()\n"
      ],
      "execution_count": null,
      "outputs": []
    },
    {
      "cell_type": "code",
      "metadata": {
        "id": "lFhqPAysUw_z"
      },
      "source": [
        ""
      ],
      "execution_count": null,
      "outputs": []
    }
  ]
}